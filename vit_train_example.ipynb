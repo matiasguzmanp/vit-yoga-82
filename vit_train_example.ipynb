{
  "cells": [
    {
      "cell_type": "markdown",
      "metadata": {
        "id": "view-in-github",
        "colab_type": "text"
      },
      "source": [
        "<a href=\"https://colab.research.google.com/github/matiasguzmanp/vit-yoga-82/blob/main/vit_train_example.ipynb\" target=\"_parent\"><img src=\"https://colab.research.google.com/assets/colab-badge.svg\" alt=\"Open In Colab\"/></a>"
      ]
    },
    {
      "cell_type": "markdown",
      "metadata": {
        "id": "ncJvBPjr9BQs"
      },
      "source": [
        "# Vision Transformer on Yoga82\n",
        "\n",
        "Author: Matías Guzmán Parra"
      ]
    },
    {
      "cell_type": "markdown",
      "metadata": {
        "id": "x3LfR_Dj9G98"
      },
      "source": [
        "## Download the repo and install dependencies"
      ]
    },
    {
      "cell_type": "code",
      "execution_count": 1,
      "metadata": {
        "colab": {
          "base_uri": "https://localhost:8080/"
        },
        "id": "iXbZn8OGcDbY",
        "outputId": "b40d94c7-9732-47cf-d2f6-9a90f3205411"
      },
      "outputs": [
        {
          "output_type": "stream",
          "name": "stdout",
          "text": [
            "Cloning into 'vit-yoga-82'...\n",
            "remote: Enumerating objects: 68, done.\u001b[K\n",
            "remote: Counting objects: 100% (68/68), done.\u001b[K\n",
            "remote: Compressing objects: 100% (52/52), done.\u001b[K\n",
            "remote: Total 68 (delta 21), reused 48 (delta 12), pack-reused 0\u001b[K\n",
            "Receiving objects: 100% (68/68), 144.85 KiB | 1.11 MiB/s, done.\n",
            "Resolving deltas: 100% (21/21), done.\n"
          ]
        }
      ],
      "source": [
        "!git clone https://github.com/matiasguzmanp/vit-yoga-82"
      ]
    },
    {
      "cell_type": "code",
      "execution_count": 2,
      "metadata": {
        "colab": {
          "base_uri": "https://localhost:8080/"
        },
        "id": "kyDf9MdZcLDg",
        "outputId": "571d031e-1f36-4b2c-8b68-c5932d1b10fc"
      },
      "outputs": [
        {
          "output_type": "stream",
          "name": "stdout",
          "text": [
            "\u001b[2K     \u001b[90m━━━━━━━━━━━━━━━━━━━━━━━━━━━━━━━━━━━━━━━━\u001b[0m \u001b[32m2.1/2.1 MB\u001b[0m \u001b[31m10.1 MB/s\u001b[0m eta \u001b[36m0:00:00\u001b[0m\n",
            "\u001b[2K     \u001b[90m━━━━━━━━━━━━━━━━━━━━━━━━━━━━━━━━━━━━━━━━\u001b[0m \u001b[32m15.7/15.7 MB\u001b[0m \u001b[31m46.5 MB/s\u001b[0m eta \u001b[36m0:00:00\u001b[0m\n",
            "\u001b[2K     \u001b[90m━━━━━━━━━━━━━━━━━━━━━━━━━━━━━━━━━━━━━━━━\u001b[0m \u001b[32m190.6/190.6 kB\u001b[0m \u001b[31m14.3 MB/s\u001b[0m eta \u001b[36m0:00:00\u001b[0m\n",
            "\u001b[2K     \u001b[90m━━━━━━━━━━━━━━━━━━━━━━━━━━━━━━━━━━━━━━━━\u001b[0m \u001b[32m254.1/254.1 kB\u001b[0m \u001b[31m19.4 MB/s\u001b[0m eta \u001b[36m0:00:00\u001b[0m\n",
            "\u001b[2K     \u001b[90m━━━━━━━━━━━━━━━━━━━━━━━━━━━━━━━━━━━━━━━━\u001b[0m \u001b[32m62.7/62.7 kB\u001b[0m \u001b[31m6.9 MB/s\u001b[0m eta \u001b[36m0:00:00\u001b[0m\n",
            "\u001b[?25h"
          ]
        }
      ],
      "source": [
        "!pip install wandb onnx -Uq"
      ]
    },
    {
      "cell_type": "code",
      "execution_count": 3,
      "metadata": {
        "id": "EIizXUzwcP9U"
      },
      "outputs": [],
      "source": [
        "import sys\n",
        "sys.path.insert(0,'/content/vit-yoga-82')"
      ]
    },
    {
      "cell_type": "markdown",
      "metadata": {
        "id": "osTeuJVe9MzR"
      },
      "source": [
        "## Data\n",
        "\n",
        "Assuming that the dataset is in a folder called `./Images` and the file `./Yoga-82.rar` is in the root folder. If not, we can download it.\n"
      ]
    },
    {
      "cell_type": "code",
      "source": [
        "!gdown --id 1Jc-Dbg2oOPHuwEzvnaC5tJGUUL2_BP46"
      ],
      "metadata": {
        "id": "ns5oEztjPrOH",
        "colab": {
          "base_uri": "https://localhost:8080/"
        },
        "outputId": "6c3666b3-e9fa-4af1-d7e1-8e0422953f0e"
      },
      "execution_count": 4,
      "outputs": [
        {
          "output_type": "stream",
          "name": "stdout",
          "text": [
            "/usr/local/lib/python3.10/dist-packages/gdown/cli.py:121: FutureWarning: Option `--id` was deprecated in version 4.3.1 and will be removed in 5.0. You don't need to pass it anymore to use a file ID.\n",
            "  warnings.warn(\n",
            "Downloading...\n",
            "From: https://drive.google.com/uc?id=1Jc-Dbg2oOPHuwEzvnaC5tJGUUL2_BP46\n",
            "To: /content/Images.rar\n",
            "100% 3.10G/3.10G [00:38<00:00, 81.4MB/s]\n"
          ]
        }
      ]
    },
    {
      "cell_type": "code",
      "execution_count": null,
      "metadata": {
        "id": "yPyp2bRB9cti"
      },
      "outputs": [],
      "source": [
        "!unrar x \"./Images.rar\""
      ]
    },
    {
      "cell_type": "code",
      "source": [
        "!gdown --id 1jcRgz_mgFiWw5VtchUbxdS8b1oGm7PWF"
      ],
      "metadata": {
        "colab": {
          "base_uri": "https://localhost:8080/"
        },
        "id": "IvPhSP2VPmJV",
        "outputId": "62a44cc0-3a35-4ec3-dd3b-7a1902dd1ea2"
      },
      "execution_count": 6,
      "outputs": [
        {
          "output_type": "stream",
          "name": "stdout",
          "text": [
            "/usr/local/lib/python3.10/dist-packages/gdown/cli.py:121: FutureWarning: Option `--id` was deprecated in version 4.3.1 and will be removed in 5.0. You don't need to pass it anymore to use a file ID.\n",
            "  warnings.warn(\n",
            "Downloading...\n",
            "From: https://drive.google.com/uc?id=1jcRgz_mgFiWw5VtchUbxdS8b1oGm7PWF\n",
            "To: /content/Yoga-82.rar\n",
            "100% 1.03M/1.03M [00:00<00:00, 8.64MB/s]\n"
          ]
        }
      ]
    },
    {
      "cell_type": "code",
      "execution_count": null,
      "metadata": {
        "id": "05CoDuq-9_1D"
      },
      "outputs": [],
      "source": [
        "!unrar x \"./Yoga-82.rar\""
      ]
    },
    {
      "cell_type": "markdown",
      "metadata": {
        "id": "-8y1KsqC-EN9"
      },
      "source": [
        "Then, we can clean the dataset from bad images and create a new `.csv` files that stores the correct images"
      ]
    },
    {
      "cell_type": "code",
      "execution_count": null,
      "metadata": {
        "id": "5tPZkgtP-D2e"
      },
      "outputs": [],
      "source": [
        "from data.clean import clean_dataset\n",
        "\n",
        "clean_dataset(csv_path = \"./Yoga-82/yoga_train.txt\").to_csv(\"train_dataframe.csv\", index=False)\n",
        "clean_dataset(csv_path = \"./Yoga-82/yoga_test.txt\").to_csv(\"test_dataframe.csv\", index=False)"
      ]
    },
    {
      "cell_type": "markdown",
      "metadata": {
        "id": "FaOKCInV-jHF"
      },
      "source": [
        "## Train\n",
        "\n",
        "We need `wandb` to monitor the training"
      ]
    },
    {
      "cell_type": "code",
      "execution_count": 10,
      "metadata": {
        "colab": {
          "base_uri": "https://localhost:8080/",
          "height": 124
        },
        "id": "73ZhBnAu-6Cg",
        "outputId": "d1ef266f-0769-4799-ab55-21b6838dff2f"
      },
      "outputs": [
        {
          "output_type": "display_data",
          "data": {
            "text/plain": [
              "<IPython.core.display.Javascript object>"
            ],
            "application/javascript": [
              "\n",
              "        window._wandbApiKey = new Promise((resolve, reject) => {\n",
              "            function loadScript(url) {\n",
              "            return new Promise(function(resolve, reject) {\n",
              "                let newScript = document.createElement(\"script\");\n",
              "                newScript.onerror = reject;\n",
              "                newScript.onload = resolve;\n",
              "                document.body.appendChild(newScript);\n",
              "                newScript.src = url;\n",
              "            });\n",
              "            }\n",
              "            loadScript(\"https://cdn.jsdelivr.net/npm/postmate/build/postmate.min.js\").then(() => {\n",
              "            const iframe = document.createElement('iframe')\n",
              "            iframe.style.cssText = \"width:0;height:0;border:none\"\n",
              "            document.body.appendChild(iframe)\n",
              "            const handshake = new Postmate({\n",
              "                container: iframe,\n",
              "                url: 'https://wandb.ai/authorize'\n",
              "            });\n",
              "            const timeout = setTimeout(() => reject(\"Couldn't auto authenticate\"), 5000)\n",
              "            handshake.then(function(child) {\n",
              "                child.on('authorize', data => {\n",
              "                    clearTimeout(timeout)\n",
              "                    resolve(data)\n",
              "                });\n",
              "            });\n",
              "            })\n",
              "        });\n",
              "    "
            ]
          },
          "metadata": {}
        },
        {
          "output_type": "stream",
          "name": "stderr",
          "text": [
            "\u001b[34m\u001b[1mwandb\u001b[0m: Logging into wandb.ai. (Learn how to deploy a W&B server locally: https://wandb.me/wandb-server)\n",
            "\u001b[34m\u001b[1mwandb\u001b[0m: You can find your API key in your browser here: https://wandb.ai/authorize\n",
            "wandb: Paste an API key from your profile and hit enter, or press ctrl+c to quit:"
          ]
        },
        {
          "name": "stdout",
          "output_type": "stream",
          "text": [
            " ··········\n"
          ]
        },
        {
          "output_type": "stream",
          "name": "stderr",
          "text": [
            "\u001b[34m\u001b[1mwandb\u001b[0m: Appending key for api.wandb.ai to your netrc file: /root/.netrc\n"
          ]
        },
        {
          "output_type": "execute_result",
          "data": {
            "text/plain": [
              "True"
            ]
          },
          "metadata": {},
          "execution_count": 10
        }
      ],
      "source": [
        "import wandb\n",
        "wandb.login()"
      ]
    },
    {
      "cell_type": "markdown",
      "metadata": {
        "id": "00fet5LdGb51"
      },
      "source": [
        "We can calculate `mean`, `std` and `weights` of the train data. It could take some time"
      ]
    },
    {
      "cell_type": "code",
      "execution_count": 11,
      "metadata": {
        "colab": {
          "base_uri": "https://localhost:8080/"
        },
        "id": "YUKDIwQKHDJ0",
        "outputId": "81bfc769-bbe9-45a4-8b8a-121c7d0f1425"
      },
      "outputs": [
        {
          "output_type": "stream",
          "name": "stderr",
          "text": [
            "/usr/local/lib/python3.10/dist-packages/PIL/TiffImagePlugin.py:858: UserWarning: Truncated File Read\n",
            "  warnings.warn(str(msg))\n"
          ]
        }
      ],
      "source": [
        "from data.measure import mean_and_std_calculator, compute_weights\n",
        "from data.dataset import Yoga82\n",
        "from torchvision.transforms import transforms\n",
        "from torch.utils.data import DataLoader\n",
        "import numpy as np\n",
        "\n",
        "transform = transforms.Compose([\n",
        "    transforms.Resize((128, 128)),\n",
        "    transforms.ToTensor()\n",
        "])\n",
        "\n",
        "dataset = Yoga82(train_val_test=\"train\", csv_path=\"./train_dataframe.csv\", transform=transform, n_classes=82)\n",
        "\n",
        "loader = DataLoader(dataset,\n",
        "                        batch_size=10,\n",
        "                        num_workers=0,\n",
        "                        shuffle=False,\n",
        "                        drop_last=False)\n",
        "\n",
        "mean, std = mean_and_std_calculator(loader)\n",
        "weights = compute_weights(loader)"
      ]
    },
    {
      "cell_type": "markdown",
      "metadata": {
        "id": "XBprdtt-J7OE"
      },
      "source": [
        "## Training\n",
        "We can start the training process of the `ViT` with 82 classes, `Adam` optimizer and `CrossEntropyLoss`"
      ]
    },
    {
      "cell_type": "code",
      "execution_count": 12,
      "metadata": {
        "id": "m5AZBeBR_D8X"
      },
      "outputs": [],
      "source": [
        "from utils.train import train, make\n",
        "from utils.test import test\n",
        "\n",
        "from data.dataset import Yoga82\n",
        "from data.measure import compute_weights, mean_and_std_calculator\n",
        "\n",
        "from torch.utils.data import DataLoader\n",
        "\n",
        "import torchvision.transforms as transforms\n",
        "import torch"
      ]
    },
    {
      "cell_type": "code",
      "execution_count": 22,
      "metadata": {
        "id": "O5AfftotGTIL"
      },
      "outputs": [],
      "source": [
        "def model_pipeline(hyperparameters, train_mean, train_std, class_weights):\n",
        "    # tell wandb to get started\n",
        "    with wandb.init(project=\"vit-yoga82\", config=hyperparameters):\n",
        "      # access all HPs through wandb.config, so logging matches execution!\n",
        "      config = wandb.config\n",
        "\n",
        "      # make the model, data, and optimization problem\n",
        "      model, train_loader, val_loader, test_loader, criterion, optimizer = make(config, train_mean, train_std, class_weights, n_classes=config.n_classes)\n",
        "      print(model)\n",
        "\n",
        "      # and use them to train the model\n",
        "      train_loss, val_loss = train(model, train_loader, val_loader, criterion, optimizer, config)\n",
        "\n",
        "      # and test its final performance\n",
        "      conf_mat, acc = test(model, test_loader,device=config.device)\n",
        "\n",
        "    return model, train_loss, val_loss, conf_mat, acc"
      ]
    },
    {
      "cell_type": "code",
      "execution_count": 23,
      "metadata": {
        "id": "RLnzTqYZOMVP"
      },
      "outputs": [],
      "source": [
        "device = torch.device(\"cuda:0\" if torch.cuda.is_available() else \"cpu\")\n",
        "\n",
        "config = dict(\n",
        "    chw = (3,128,128),\n",
        "    patch_size = 8,\n",
        "    D = 768,\n",
        "    n_classes = 82,\n",
        "    heads = 12,\n",
        "    layers = 12,\n",
        "    epochs = 1,\n",
        "    lr = 1e-5,\n",
        "    batch_size = 32,\n",
        "    device = device\n",
        "    )"
      ]
    },
    {
      "cell_type": "code",
      "execution_count": null,
      "metadata": {
        "id": "_O-uRbiaOOw7"
      },
      "outputs": [],
      "source": [
        "model, train_loss, val_loss, conf_mat, acc = model_pipeline(config,\n",
        "                                                  train_mean = mean,\n",
        "                                                  train_std = std,\n",
        "                                                  class_weights = weights)"
      ]
    },
    {
      "cell_type": "markdown",
      "metadata": {
        "id": "_PabBHZ8OQpg"
      },
      "source": [
        "## Plotting results"
      ]
    },
    {
      "cell_type": "code",
      "execution_count": 26,
      "metadata": {
        "id": "3X-ge8ZeOTvy"
      },
      "outputs": [],
      "source": [
        "import matplotlib.pyplot as plt\n",
        "import seaborn as sns\n",
        "\n",
        "\n",
        "def plot_loss(train_loss, val_loss, info):\n",
        "  plt.figure()\n",
        "  plt.plot(train_loss, label=\"Loss de entrenamiento\")\n",
        "  plt.plot(val_loss, label=\"Loss de validación\")\n",
        "  plt.legend()\n",
        "  plt.grid(\"on\")\n",
        "  plt.title(f\"Loss de entrenamiento y validación en función de la época: {info}\")\n",
        "\n",
        "\n",
        "def plot_conf_mat(conf_mat, acc, info):\n",
        "  plt.figure(figsize=(10,8))\n",
        "  sns.heatmap(conf_mat)\n",
        "  plt.title(f\"Matriz de confusión {info}.\\nAccuracy={acc:.4f}\")\n",
        "  plt.xlabel('Predichas')\n",
        "  plt.ylabel('Reales')\n",
        "  plt.show()"
      ]
    }
  ],
  "metadata": {
    "colab": {
      "provenance": [],
      "gpuType": "T4",
      "include_colab_link": true
    },
    "kernelspec": {
      "display_name": "Python 3",
      "name": "python3"
    },
    "language_info": {
      "name": "python"
    },
    "accelerator": "GPU"
  },
  "nbformat": 4,
  "nbformat_minor": 0
}